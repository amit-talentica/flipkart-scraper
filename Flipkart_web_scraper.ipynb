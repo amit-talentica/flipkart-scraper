{
 "cells": [
  {
   "cell_type": "code",
   "execution_count": 1,
   "metadata": {},
   "outputs": [],
   "source": [
    "import requests\n",
    "from bs4 import BeautifulSoup\n",
    "import pandas as pd"
   ]
  },
  {
   "cell_type": "code",
   "execution_count": 2,
   "metadata": {},
   "outputs": [],
   "source": [
    "# https://www.flipkart.com/search?q=mobiles"
   ]
  },
  {
   "cell_type": "code",
   "execution_count": 3,
   "metadata": {},
   "outputs": [],
   "source": [
    "base_url = 'https://www.flipkart.com/search?q=mobiles'"
   ]
  },
  {
   "cell_type": "code",
   "execution_count": 4,
   "metadata": {},
   "outputs": [
    {
     "name": "stdout",
     "output_type": "stream",
     "text": [
      "200\n"
     ]
    }
   ],
   "source": [
    "r=requests.get(base_url)\n",
    "print(r.status_code)"
   ]
  },
  {
   "cell_type": "code",
   "execution_count": 5,
   "metadata": {},
   "outputs": [
    {
     "name": "stdout",
     "output_type": "stream",
     "text": [
      "<title>Mobiles - Buy Products Online at Best Price in India - All Categories | Flipkart.com</title>\n"
     ]
    }
   ],
   "source": [
    "soup = BeautifulSoup(r.text,'html5lib')\n",
    "#print(soup.text)\n",
    "print(soup.title)"
   ]
  },
  {
   "cell_type": "code",
   "execution_count": 6,
   "metadata": {},
   "outputs": [],
   "source": [
    "Product_List = []\n",
    "\n",
    "Parent = soup.find_all(True,{'class':'_3O0U0u'})\n",
    "for product in Parent:\n",
    "    product_id = product.find('div')\n",
    "    product_id = product_id['data-id']\n",
    "    product_name = product.find('div',{'class':'_3wU53n'})\n",
    "    product_name = product_name.text\n",
    "    price = product.find('div',{'class':'_1vC4OE _2rQ-NK'})\n",
    "    product_price = price.text\n",
    "    url = product.find('a',{'class':'_31qSD5'})\n",
    "    product_url ='https://www.flipkart.com'+ url['href']\n",
    "    rating = product.find('span',{'class':'_38sUEc'})\n",
    "    product_rating = rating.text\n",
    "    star_rating = product.find('div',{'class':'hGSR34'})\n",
    "    product_star_rating = star_rating.text\n",
    "    \n",
    "    product_details = {'product_id':product_id,\n",
    "                      'product_name':product_name,\n",
    "                       'product_price':product_price,\n",
    "                       'product_url':product_url,\n",
    "                       'product_rating':product_rating,\n",
    "                       'product_star_rating':product_star_rating}\n",
    "    Product_List.append(product_details)"
   ]
  },
  {
   "cell_type": "code",
   "execution_count": 8,
   "metadata": {},
   "outputs": [
    {
     "data": {
      "text/html": [
       "<div>\n",
       "<style scoped>\n",
       "    .dataframe tbody tr th:only-of-type {\n",
       "        vertical-align: middle;\n",
       "    }\n",
       "\n",
       "    .dataframe tbody tr th {\n",
       "        vertical-align: top;\n",
       "    }\n",
       "\n",
       "    .dataframe thead th {\n",
       "        text-align: right;\n",
       "    }\n",
       "</style>\n",
       "<table border=\"1\" class=\"dataframe\">\n",
       "  <thead>\n",
       "    <tr style=\"text-align: right;\">\n",
       "      <th></th>\n",
       "      <th>product_id</th>\n",
       "      <th>product_name</th>\n",
       "      <th>product_price</th>\n",
       "      <th>product_rating</th>\n",
       "      <th>product_star_rating</th>\n",
       "      <th>product_url</th>\n",
       "    </tr>\n",
       "  </thead>\n",
       "  <tbody>\n",
       "    <tr>\n",
       "      <th>0</th>\n",
       "      <td>MOBFTAYNJCYXTYM9</td>\n",
       "      <td>Realme 6i (Lunar White, 64 GB)</td>\n",
       "      <td>₹13,999</td>\n",
       "      <td>17,218 Ratings &amp; 1,673 Reviews</td>\n",
       "      <td>4.4</td>\n",
       "      <td>https://www.flipkart.com/realme-6i-lunar-white...</td>\n",
       "    </tr>\n",
       "    <tr>\n",
       "      <th>1</th>\n",
       "      <td>MOBFQ3DPGYFSJ3SP</td>\n",
       "      <td>Infinix Hot 9 Pro (Violet, 64 GB)</td>\n",
       "      <td>₹10,499</td>\n",
       "      <td>32,276 Ratings &amp; 2,483 Reviews</td>\n",
       "      <td>4.5</td>\n",
       "      <td>https://www.flipkart.com/infinix-hot-9-pro-vio...</td>\n",
       "    </tr>\n",
       "    <tr>\n",
       "      <th>2</th>\n",
       "      <td>MOBFUEPQHCTRYJ62</td>\n",
       "      <td>Realme C15 (Power Blue, 64 GB)</td>\n",
       "      <td>₹10,999</td>\n",
       "      <td>3,866 Ratings &amp; 196 Reviews</td>\n",
       "      <td>4.6</td>\n",
       "      <td>https://www.flipkart.com/realme-c15-power-blue...</td>\n",
       "    </tr>\n",
       "    <tr>\n",
       "      <th>3</th>\n",
       "      <td>MOBFUEPQCDMJSGFX</td>\n",
       "      <td>Realme C15 (Power Silver, 32 GB)</td>\n",
       "      <td>₹9,999</td>\n",
       "      <td>3 Ratings &amp; 0 Reviews</td>\n",
       "      <td>4</td>\n",
       "      <td>https://www.flipkart.com/realme-c15-power-silv...</td>\n",
       "    </tr>\n",
       "    <tr>\n",
       "      <th>4</th>\n",
       "      <td>MOBFTPFF94QEFUGZ</td>\n",
       "      <td>Realme C3 (Volcano Grey, 64 GB)</td>\n",
       "      <td>₹9,999</td>\n",
       "      <td>1,40,310 Ratings &amp; 9,797 Reviews</td>\n",
       "      <td>4.4</td>\n",
       "      <td>https://www.flipkart.com/realme-c3-volcano-gre...</td>\n",
       "    </tr>\n",
       "  </tbody>\n",
       "</table>\n",
       "</div>"
      ],
      "text/plain": [
       "         product_id                       product_name product_price  \\\n",
       "0  MOBFTAYNJCYXTYM9     Realme 6i (Lunar White, 64 GB)       ₹13,999   \n",
       "1  MOBFQ3DPGYFSJ3SP  Infinix Hot 9 Pro (Violet, 64 GB)       ₹10,499   \n",
       "2  MOBFUEPQHCTRYJ62     Realme C15 (Power Blue, 64 GB)       ₹10,999   \n",
       "3  MOBFUEPQCDMJSGFX   Realme C15 (Power Silver, 32 GB)        ₹9,999   \n",
       "4  MOBFTPFF94QEFUGZ    Realme C3 (Volcano Grey, 64 GB)        ₹9,999   \n",
       "\n",
       "                     product_rating product_star_rating  \\\n",
       "0    17,218 Ratings & 1,673 Reviews                 4.4   \n",
       "1    32,276 Ratings & 2,483 Reviews                 4.5   \n",
       "2       3,866 Ratings & 196 Reviews                 4.6   \n",
       "3             3 Ratings & 0 Reviews                   4   \n",
       "4  1,40,310 Ratings & 9,797 Reviews                 4.4   \n",
       "\n",
       "                                         product_url  \n",
       "0  https://www.flipkart.com/realme-6i-lunar-white...  \n",
       "1  https://www.flipkart.com/infinix-hot-9-pro-vio...  \n",
       "2  https://www.flipkart.com/realme-c15-power-blue...  \n",
       "3  https://www.flipkart.com/realme-c15-power-silv...  \n",
       "4  https://www.flipkart.com/realme-c3-volcano-gre...  "
      ]
     },
     "execution_count": 8,
     "metadata": {},
     "output_type": "execute_result"
    }
   ],
   "source": [
    "Data = pd.DataFrame(Product_List)\n",
    "Data.head()"
   ]
  },
  {
   "cell_type": "code",
   "execution_count": 68,
   "metadata": {},
   "outputs": [],
   "source": [
    "#save to csv\n",
    "Final_Data = Data.to_csv('Flipkart_Mobile_Data.csv')"
   ]
  }
 ],
 "metadata": {
  "kernelspec": {
   "display_name": "Python 3",
   "language": "python",
   "name": "python3"
  },
  "language_info": {
   "codemirror_mode": {
    "name": "ipython",
    "version": 3
   },
   "file_extension": ".py",
   "mimetype": "text/x-python",
   "name": "python",
   "nbconvert_exporter": "python",
   "pygments_lexer": "ipython3",
   "version": "3.6.4"
  }
 },
 "nbformat": 4,
 "nbformat_minor": 2
}
